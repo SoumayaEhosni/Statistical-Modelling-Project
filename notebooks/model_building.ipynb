{
 "cells": [
  {
   "cell_type": "markdown",
   "metadata": {},
   "source": [
    "Build a regression model."
   ]
  },
  {
   "cell_type": "code",
   "execution_count": 5,
   "metadata": {},
   "outputs": [
    {
     "name": "stdout",
     "output_type": "stream",
     "text": [
      "Collecting statsmodels\n",
      "  Downloading statsmodels-0.14.4-cp313-cp313-win_amd64.whl.metadata (9.5 kB)\n",
      "Requirement already satisfied: numpy<3,>=1.22.3 in c:\\users\\soumya\\appdata\\local\\programs\\python\\python313\\lib\\site-packages (from statsmodels) (2.2.4)\n",
      "Collecting scipy!=1.9.2,>=1.8 (from statsmodels)\n",
      "  Downloading scipy-1.15.2-cp313-cp313-win_amd64.whl.metadata (60 kB)\n",
      "Requirement already satisfied: pandas!=2.1.0,>=1.4 in c:\\users\\soumya\\appdata\\local\\programs\\python\\python313\\lib\\site-packages (from statsmodels) (2.2.3)\n",
      "Collecting patsy>=0.5.6 (from statsmodels)\n",
      "  Downloading patsy-1.0.1-py2.py3-none-any.whl.metadata (3.3 kB)\n",
      "Requirement already satisfied: packaging>=21.3 in c:\\users\\soumya\\appdata\\roaming\\python\\python313\\site-packages (from statsmodels) (24.2)\n",
      "Requirement already satisfied: python-dateutil>=2.8.2 in c:\\users\\soumya\\appdata\\roaming\\python\\python313\\site-packages (from pandas!=2.1.0,>=1.4->statsmodels) (2.9.0.post0)\n",
      "Requirement already satisfied: pytz>=2020.1 in c:\\users\\soumya\\appdata\\local\\programs\\python\\python313\\lib\\site-packages (from pandas!=2.1.0,>=1.4->statsmodels) (2025.2)\n",
      "Requirement already satisfied: tzdata>=2022.7 in c:\\users\\soumya\\appdata\\local\\programs\\python\\python313\\lib\\site-packages (from pandas!=2.1.0,>=1.4->statsmodels) (2025.2)\n",
      "Requirement already satisfied: six>=1.5 in c:\\users\\soumya\\appdata\\roaming\\python\\python313\\site-packages (from python-dateutil>=2.8.2->pandas!=2.1.0,>=1.4->statsmodels) (1.17.0)\n",
      "Downloading statsmodels-0.14.4-cp313-cp313-win_amd64.whl (9.8 MB)\n",
      "   ---------------------------------------- 0.0/9.8 MB ? eta -:--:--\n",
      "   ------------------------- -------------- 6.3/9.8 MB 32.0 MB/s eta 0:00:01\n",
      "   ---------------------------------------- 9.8/9.8 MB 24.1 MB/s eta 0:00:00\n",
      "Downloading patsy-1.0.1-py2.py3-none-any.whl (232 kB)\n",
      "Downloading scipy-1.15.2-cp313-cp313-win_amd64.whl (41.0 MB)\n",
      "   ---------------------------------------- 0.0/41.0 MB ? eta -:--:--\n",
      "   ---- ----------------------------------- 4.2/41.0 MB 21.0 MB/s eta 0:00:02\n",
      "   ------- -------------------------------- 8.1/41.0 MB 19.2 MB/s eta 0:00:02\n",
      "   ------------ --------------------------- 12.8/41.0 MB 20.4 MB/s eta 0:00:02\n",
      "   ----------------- ---------------------- 17.8/41.0 MB 21.0 MB/s eta 0:00:02\n",
      "   --------------------- ------------------ 22.3/41.0 MB 21.0 MB/s eta 0:00:01\n",
      "   ------------------------- -------------- 26.2/41.0 MB 20.5 MB/s eta 0:00:01\n",
      "   ----------------------------- ---------- 30.7/41.0 MB 20.5 MB/s eta 0:00:01\n",
      "   ---------------------------------- ----- 34.9/41.0 MB 20.5 MB/s eta 0:00:01\n",
      "   -------------------------------------- - 39.6/41.0 MB 20.6 MB/s eta 0:00:01\n",
      "   ---------------------------------------- 41.0/41.0 MB 19.8 MB/s eta 0:00:00\n",
      "Installing collected packages: scipy, patsy, statsmodels\n",
      "Successfully installed patsy-1.0.1 scipy-1.15.2 statsmodels-0.14.4\n"
     ]
    },
    {
     "name": "stderr",
     "output_type": "stream",
     "text": [
      "\n",
      "[notice] A new release of pip is available: 24.3.1 -> 25.0.1\n",
      "[notice] To update, run: python.exe -m pip install --upgrade pip\n"
     ]
    }
   ],
   "source": [
    "!pip install statsmodels\n"
   ]
  },
  {
   "cell_type": "code",
   "execution_count": 10,
   "metadata": {},
   "outputs": [
    {
     "name": "stdout",
     "output_type": "stream",
     "text": [
      "                            OLS Regression Results                            \n",
      "==============================================================================\n",
      "Dep. Variable:             free_bikes   R-squared:                       0.001\n",
      "Model:                            OLS   Adj. R-squared:                  0.001\n",
      "Method:                 Least Squares   F-statistic:                     8.430\n",
      "Date:                Mon, 28 Apr 2025   Prob (F-statistic):            0.00370\n",
      "Time:                        05:54:28   Log-Likelihood:                -29943.\n",
      "No. Observations:                7485   AIC:                         5.989e+04\n",
      "Df Residuals:                    7483   BIC:                         5.990e+04\n",
      "Df Model:                           1                                         \n",
      "Covariance Type:            nonrobust                                         \n",
      "==================================================================================\n",
      "                     coef    std err          t      P>|t|      [0.025      0.975]\n",
      "----------------------------------------------------------------------------------\n",
      "const             12.4065      0.196     63.306      0.000      12.022      12.791\n",
      "venue_distance    -0.0012      0.000     -2.903      0.004      -0.002      -0.000\n",
      "==============================================================================\n",
      "Omnibus:                     2165.711   Durbin-Watson:                   0.417\n",
      "Prob(Omnibus):                  0.000   Jarque-Bera (JB):             5357.419\n",
      "Skew:                           1.603   Prob(JB):                         0.00\n",
      "Kurtosis:                       5.627   Cond. No.                         612.\n",
      "==============================================================================\n",
      "\n",
      "Notes:\n",
      "[1] Standard Errors assume that the covariance matrix of the errors is correctly specified.\n"
     ]
    }
   ],
   "source": [
    "import pandas as pd\n",
    "import statsmodels.api as sm\n",
    "\n",
    "# Load the combined data\n",
    "combined_data = pd.read_csv('combined_bike_poi_data.csv')\n",
    "\n",
    "# Check for missing values and handle them (for simplicity, we'll drop rows with NaN in free_bikes or venue_distance)\n",
    "combined_data = combined_data.dropna(subset=['venue_distance', 'free_bikes'])\n",
    "\n",
    "# Define the features (X) and target (y)\n",
    "X = combined_data[['venue_distance']]  # Using `venue_distance` as the feature\n",
    "y = combined_data['free_bikes']  # `free_bikes` as the target variable\n",
    "\n",
    "# Add a constant to the feature matrix for the intercept in the regression model\n",
    "X = sm.add_constant(X)\n",
    "\n",
    "# Fit the OLS regression model\n",
    "model = sm.OLS(y, X).fit()\n",
    "\n",
    "# Print the model summary\n",
    "print(model.summary())\n"
   ]
  },
  {
   "cell_type": "markdown",
   "metadata": {},
   "source": [
    "Provide model output and an interpretation of the results. "
   ]
  },
  {
   "cell_type": "markdown",
   "metadata": {},
   "source": [
    "Interpretation of Results:\n",
    "1. R-squared (R²):\n",
    "R-squared = 0.001: This means the model explains only 0.1% of the variability in the number of free bikes. The low R-squared value suggests that the model is not very good at predicting the number of free bikes based on the venue_distance.\n",
    "\n",
    "2. F-statistic and p-value:\n",
    "F-statistic = 8.430, p-value = 0.0037: The F-statistic is used to test whether the model as a whole is statistically significant. With a p-value of 0.0037, we can reject the null hypothesis, indicating that the relationship between venue_distance and free_bikes is statistically significant.\n",
    "\n",
    "3. Coefficients:\n",
    "Intercept (const) = 12.4065: This is the estimated number of free bikes when the venue_distance is zero (i.e., when the venue is located exactly at the bike station). The model predicts approximately 12.4 free bikes at that distance.\n",
    "\n",
    "venue_distance Coefficient = -0.0012: For each additional unit of distance between the venue and the bike station, the number of free bikes decreases by 0.0012. This indicates a negative relationship between venue_distance and the number of free bikes.\n",
    "\n",
    "4. t-value and p-value for venue_distance:\n",
    "t-value = -2.903, p-value = 0.004: The t-value tells us how many standard errors the coefficient is away from zero. Since the absolute t-value is large and the p-value is below 0.05, we can conclude that venue_distance has a statistically significant effect on free_bikes.\n",
    "\n",
    "5. Confidence Interval:\n",
    "The 95% confidence interval for the venue_distance coefficient is (-0.002, -0.000), meaning we are 95% confident that the true coefficient lies within this range. This negative interval further supports the idea that increased distance to a venue reduces the number of free bikes.\n",
    "\n",
    "6. Durbin-Watson Statistic:\n",
    "Durbin-Watson = 0.417: This indicates that there is positive autocorrelation in the residuals (the errors are correlated), which suggests that the model might not fully capture the data's underlying structure. We may need to use more advanced methods to account for this, such as time-series models if the data has temporal patterns.\n",
    "\n",
    "7. Omnibus and Jarque-Bera Tests:\n",
    "Both the Omnibus and Jarque-Bera tests are significant, indicating that the residuals are not normally distributed. This could be a concern, as normality of residuals is an assumption of OLS regression.\n",
    "\n"
   ]
  },
  {
   "cell_type": "markdown",
   "metadata": {},
   "source": [
    "# Stretch"
   ]
  },
  {
   "cell_type": "markdown",
   "metadata": {},
   "source": [
    "How can you turn the regression model into a classification model?"
   ]
  },
  {
   "cell_type": "code",
   "execution_count": 11,
   "metadata": {},
   "outputs": [
    {
     "name": "stdout",
     "output_type": "stream",
     "text": [
      "   free_bikes bike_category\n",
      "0          21          High\n",
      "1          21          High\n",
      "2          21          High\n",
      "3          21          High\n",
      "4          21          High\n"
     ]
    }
   ],
   "source": [
    "# Define categories for free bikes based on their value\n",
    "bins = [0, 5, 20, float('inf')]  # Define bin edges\n",
    "labels = ['Low', 'Medium', 'High']  # Define category labels\n",
    "combined_data['bike_category'] = pd.cut(combined_data['free_bikes'], bins=bins, labels=labels, right=False)\n",
    "\n",
    "# Check the new categories\n",
    "print(combined_data[['free_bikes', 'bike_category']].head())\n"
   ]
  },
  {
   "cell_type": "code",
   "execution_count": 16,
   "metadata": {},
   "outputs": [
    {
     "data": {
      "text/plain": [
       "0"
      ]
     },
     "execution_count": 16,
     "metadata": {},
     "output_type": "execute_result"
    }
   ],
   "source": [
    "import subprocess\n",
    "import sys\n",
    "\n",
    "# Install scikit-learn\n",
    "subprocess.check_call([sys.executable, \"-m\", \"pip\", \"install\", \"scikit-learn\"])"
   ]
  },
  {
   "cell_type": "code",
   "execution_count": 17,
   "metadata": {},
   "outputs": [
    {
     "name": "stdout",
     "output_type": "stream",
     "text": [
      "              precision    recall  f1-score   support\n",
      "\n",
      "        High       0.00      0.00      0.00       513\n",
      "         Low       0.40      1.00      0.57       905\n",
      "      Medium       0.00      0.00      0.00       828\n",
      "\n",
      "    accuracy                           0.40      2246\n",
      "   macro avg       0.13      0.33      0.19      2246\n",
      "weighted avg       0.16      0.40      0.23      2246\n",
      "\n"
     ]
    },
    {
     "name": "stderr",
     "output_type": "stream",
     "text": [
      "c:\\Users\\Soumya\\AppData\\Local\\Programs\\Python\\Python313\\Lib\\site-packages\\sklearn\\linear_model\\_logistic.py:1256: FutureWarning: 'multi_class' was deprecated in version 1.5 and will be removed in 1.7. Use OneVsRestClassifier(LogisticRegression(..)) instead. Leave it to its default value to avoid this warning.\n",
      "  warnings.warn(\n",
      "c:\\Users\\Soumya\\AppData\\Local\\Programs\\Python\\Python313\\Lib\\site-packages\\sklearn\\metrics\\_classification.py:1565: UndefinedMetricWarning: Precision is ill-defined and being set to 0.0 in labels with no predicted samples. Use `zero_division` parameter to control this behavior.\n",
      "  _warn_prf(average, modifier, f\"{metric.capitalize()} is\", len(result))\n",
      "c:\\Users\\Soumya\\AppData\\Local\\Programs\\Python\\Python313\\Lib\\site-packages\\sklearn\\metrics\\_classification.py:1565: UndefinedMetricWarning: Precision is ill-defined and being set to 0.0 in labels with no predicted samples. Use `zero_division` parameter to control this behavior.\n",
      "  _warn_prf(average, modifier, f\"{metric.capitalize()} is\", len(result))\n",
      "c:\\Users\\Soumya\\AppData\\Local\\Programs\\Python\\Python313\\Lib\\site-packages\\sklearn\\metrics\\_classification.py:1565: UndefinedMetricWarning: Precision is ill-defined and being set to 0.0 in labels with no predicted samples. Use `zero_division` parameter to control this behavior.\n",
      "  _warn_prf(average, modifier, f\"{metric.capitalize()} is\", len(result))\n"
     ]
    }
   ],
   "source": [
    "# Import necessary libraries\n",
    "import pandas as pd\n",
    "from sklearn.model_selection import train_test_split\n",
    "from sklearn.linear_model import LogisticRegression\n",
    "from sklearn.metrics import classification_report\n",
    "\n",
    "# Prepare the data (replace with your actual data loading process)\n",
    "# Assuming 'combined_data' is your DataFrame\n",
    "# Example: combined_data = pd.read_csv('combined_bike_poi_data.csv')\n",
    "\n",
    "# Prepare the features (X) and target (y)\n",
    "X = combined_data[['venue_distance']]  # Independent variable (distance from POI to station)\n",
    "y = combined_data['bike_category']  # Dependent variable (bike category: Low, Medium, High)\n",
    "\n",
    "# Split the data into training and testing sets\n",
    "X_train, X_test, y_train, y_test = train_test_split(X, y, test_size=0.3, random_state=42)\n",
    "\n",
    "# Create and train the logistic regression model\n",
    "clf = LogisticRegression(multi_class='ovr', solver='liblinear')  # 'ovr' = One-vs-Rest strategy\n",
    "clf.fit(X_train, y_train)\n",
    "\n",
    "# Predict the target for the test set\n",
    "y_pred = clf.predict(X_test)\n",
    "\n",
    "# Evaluate the model\n",
    "print(classification_report(y_test, y_pred))\n"
   ]
  }
 ],
 "metadata": {
  "kernelspec": {
   "display_name": "Python 3",
   "language": "python",
   "name": "python3"
  },
  "language_info": {
   "codemirror_mode": {
    "name": "ipython",
    "version": 3
   },
   "file_extension": ".py",
   "mimetype": "text/x-python",
   "name": "python",
   "nbconvert_exporter": "python",
   "pygments_lexer": "ipython3",
   "version": "3.13.2"
  }
 },
 "nbformat": 4,
 "nbformat_minor": 4
}
