{
 "cells": [
  {
   "cell_type": "markdown",
   "metadata": {},
   "source": [
    "# CityBikes"
   ]
  },
  {
   "cell_type": "markdown",
   "metadata": {},
   "source": [
    "Send a request to CityBikes for the city of your choice. "
   ]
  },
  {
   "cell_type": "code",
   "execution_count": 9,
   "metadata": {},
   "outputs": [],
   "source": [
    "import requests\n",
    "\n",
    "\n",
    "# Get info about all networks\n",
    "networks_url = \"https://api.citybik.es/v2/networks\"\n",
    "networks_response = requests.get(networks_url)\n",
    "networks_data = networks_response.json()\n",
    "\n",
    "# Find the network for Paris (Velib)\n",
    "paris_network = next(net for net in networks_data['networks'] if 'velib' in net['id'])\n",
    "paris_network_url = f\"https://api.citybik.es/v2/networks/{paris_network['id']}\"\n",
    "\n",
    "# Get full data for Paris\n",
    "paris_data = requests.get(paris_network_url).json()"
   ]
  },
  {
   "cell_type": "markdown",
   "metadata": {},
   "source": [
    "Parse through the response to get the details you want for the bike stations in that city (latitude, longitude, number of bikes). "
   ]
  },
  {
   "cell_type": "code",
   "execution_count": 10,
   "metadata": {},
   "outputs": [],
   "source": [
    "# Extract stations list from the data\n",
    "stations = paris_data['network']['stations']\n",
    "\n",
    "# Get relevant details: name, latitude, longitude, number of free bikes\n",
    "parsed_stations = [\n",
    "    {\n",
    "        'name': station['name'],\n",
    "        'latitude': station['latitude'],\n",
    "        'longitude': station['longitude'],\n",
    "        'free_bikes': station['free_bikes']\n",
    "    }\n",
    "    for station in stations\n",
    "]"
   ]
  },
  {
   "cell_type": "markdown",
   "metadata": {},
   "source": [
    "Put your parsed results into a DataFrame."
   ]
  },
  {
   "cell_type": "code",
   "execution_count": 16,
   "metadata": {},
   "outputs": [
    {
     "name": "stdout",
     "output_type": "stream",
     "text": [
      "here is the result\n"
     ]
    },
    {
     "data": {
      "text/html": [
       "<div>\n",
       "<style scoped>\n",
       "    .dataframe tbody tr th:only-of-type {\n",
       "        vertical-align: middle;\n",
       "    }\n",
       "\n",
       "    .dataframe tbody tr th {\n",
       "        vertical-align: top;\n",
       "    }\n",
       "\n",
       "    .dataframe thead th {\n",
       "        text-align: right;\n",
       "    }\n",
       "</style>\n",
       "<table border=\"1\" class=\"dataframe\">\n",
       "  <thead>\n",
       "    <tr style=\"text-align: right;\">\n",
       "      <th></th>\n",
       "      <th>name</th>\n",
       "      <th>latitude</th>\n",
       "      <th>longitude</th>\n",
       "      <th>free_bikes</th>\n",
       "    </tr>\n",
       "  </thead>\n",
       "  <tbody>\n",
       "    <tr>\n",
       "      <th>0</th>\n",
       "      <td>Argenson - Château</td>\n",
       "      <td>48.888559</td>\n",
       "      <td>2.264200</td>\n",
       "      <td>4</td>\n",
       "    </tr>\n",
       "    <tr>\n",
       "      <th>1</th>\n",
       "      <td>Saint Lambert - Blomet</td>\n",
       "      <td>48.836591</td>\n",
       "      <td>2.293056</td>\n",
       "      <td>25</td>\n",
       "    </tr>\n",
       "    <tr>\n",
       "      <th>2</th>\n",
       "      <td>Saint-Maur - République</td>\n",
       "      <td>48.864186</td>\n",
       "      <td>2.378317</td>\n",
       "      <td>16</td>\n",
       "    </tr>\n",
       "    <tr>\n",
       "      <th>3</th>\n",
       "      <td>Mairie de Rosny-sous-Bois</td>\n",
       "      <td>48.871257</td>\n",
       "      <td>2.486581</td>\n",
       "      <td>27</td>\n",
       "    </tr>\n",
       "    <tr>\n",
       "      <th>4</th>\n",
       "      <td>Mouton Duvernet - Général Leclerc</td>\n",
       "      <td>48.831633</td>\n",
       "      <td>2.329312</td>\n",
       "      <td>5</td>\n",
       "    </tr>\n",
       "  </tbody>\n",
       "</table>\n",
       "</div>"
      ],
      "text/plain": [
       "                                name   latitude  longitude  free_bikes\n",
       "0                 Argenson - Château  48.888559   2.264200           4\n",
       "1             Saint Lambert - Blomet  48.836591   2.293056          25\n",
       "2            Saint-Maur - République  48.864186   2.378317          16\n",
       "3          Mairie de Rosny-sous-Bois  48.871257   2.486581          27\n",
       "4  Mouton Duvernet - Général Leclerc  48.831633   2.329312           5"
      ]
     },
     "execution_count": 16,
     "metadata": {},
     "output_type": "execute_result"
    }
   ],
   "source": [
    "import pandas as pd\n",
    "\n",
    "# Put parsed results into a DataFrame\n",
    "df_bike_stations = pd.DataFrame(parsed_stations)\n",
    "\n",
    "\n",
    "# Save the DataFrame to a CSV file\n",
    "df_bike_stations.to_csv('paris_bike_stations.csv', index=False)\n",
    "\n",
    "# Display the first few rows to check the data\n",
    "print(\"here is the result\")\n",
    "df_bike_stations.head()\n",
    "df_bike_stations = pd.DataFrame(parsed_stations)\n",
    "df_bike_stations.head()\n"
   ]
  }
 ],
 "metadata": {
  "kernelspec": {
   "display_name": "Python 3",
   "language": "python",
   "name": "python3"
  },
  "language_info": {
   "codemirror_mode": {
    "name": "ipython",
    "version": 3
   },
   "file_extension": ".py",
   "mimetype": "text/x-python",
   "name": "python",
   "nbconvert_exporter": "python",
   "pygments_lexer": "ipython3",
   "version": "3.13.2"
  }
 },
 "nbformat": 4,
 "nbformat_minor": 4
}
